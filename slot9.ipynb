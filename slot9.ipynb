{
 "cells": [
  {
   "cell_type": "markdown",
   "metadata": {},
   "source": [
    "<h3>Supervised</h3>\n",
    "<img src=\"z5909436702981_94576087a7d011fbbb803db5996f634b.jpg\" style=\"width:800px\"></img>\n",
    "<br>\n",
    "feature: HSgrade(%)\n",
    "<br>\n",
    "target: poverty(%)\n",
    "<br>\n",
    "poverty = f(HSgrade) \n",
    "<br>\n",
    "target = response variable\n",
    "<br>\n",
    "feature = explanatory variable\n",
    "<br>\n",
    "Relationship ?\n",
    "<br>\n",
    "n= (corr)Correlation(x,y) thuộc [-1,1]\n",
    "<br>\n",
    "n<0 -> negative => x tăng y giảm, x giảm y tăng\n",
    "<br>\n",
    "n=0 -> no \n",
    "<br>\n",
    "n>0 -> positive => x tăng y tăng, x giảm y giảm\n",
    "<br>\n",
    "AI -> tối ưu -> math -> cực trị\n",
    "<br>\n",
    "Data = Fit + Residual\n",
    "<br>\n",
    "Residual là độ lệch được tính bằng hàm số toán học so với dữ liệu thực tế (e)\n",
    "<br>\n",
    "Fit là dữ liệu nằm trên đường thẳng\n",
    "<br>\n",
    "e = y - y^ (lệch = thực tế - dự báo)\n",
    "<br>\n",
    "<img src=\"z5909560501538_e3ba09a087fbfcb2f591970936db0675.jpg\" style=\"width:800px\"></img>\n",
    "<br>\n",
    "poverty = B0 +B1 * HSgrade (Simple Linear R)"
   ]
  }
 ],
 "metadata": {
  "language_info": {
   "name": "python"
  }
 },
 "nbformat": 4,
 "nbformat_minor": 2
}
